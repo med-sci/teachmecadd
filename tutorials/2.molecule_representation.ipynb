{
 "cells": [
  {
   "cell_type": "markdown",
   "metadata": {},
   "source": [
    "# Molecule representation "
   ]
  },
  {
   "cell_type": "code",
   "execution_count": 106,
   "metadata": {},
   "outputs": [],
   "source": [
    "import sys\n",
    "from rdkit import Chem\n",
    "from rdkit.Chem import Descriptors, rdFingerprintGenerator, MACCSkeys, Draw, AllChem\n",
    "from torch_geometric.utils import to_networkx\n",
    "import numpy as np\n",
    "import networkx as nx\n",
    "import matplotlib.pyplot as plt\n",
    "sys.path.append(\"../\")\n",
    "from tcad.tools.gtools import mol_to_torch_data"
   ]
  },
  {
   "cell_type": "markdown",
   "metadata": {},
   "source": [
    "## String"
   ]
  },
  {
   "cell_type": "code",
   "execution_count": 2,
   "metadata": {},
   "outputs": [],
   "source": [
    "# Paracetamol\n",
    "\n",
    "# Canonical SMILEs\n",
    "smiles = \"CC(=O)NC1=CC=C(C=C1)O\"\n",
    "\n",
    "# Molecular formula\n",
    "formula = \"C8H9NO2\" \n",
    "\n",
    "# InChI\n",
    "inchi = \"nChI=1S/C8H9NO2/c1-6(10)9-7-2-4-8(11)5-3-7/h2-5,11H,1H3,(H,9,10)/i2D,3D,4D,5D\"\n"
   ]
  },
  {
   "cell_type": "markdown",
   "metadata": {},
   "source": [
    "## Vector representation"
   ]
  },
  {
   "cell_type": "markdown",
   "metadata": {},
   "source": [
    "### As a set of molecular descriptors"
   ]
  },
  {
   "cell_type": "code",
   "execution_count": 86,
   "metadata": {},
   "outputs": [
    {
     "name": "stdout",
     "output_type": "stream",
     "text": [
      "available descriptor count: 208\n",
      "descriptors and it values from 11-th to 14-th \n",
      "#############################################\n",
      "\n",
      "...['MaxPartialCharge', 'MinPartialCharge', 'MaxAbsPartialCharge', 'MinAbsPartialCharge']...\n",
      "...[0.22074743631242583, -0.5079643157925783, 0.5079643157925783, 0.22074743631242583]...\n"
     ]
    }
   ],
   "source": [
    "# List of available rdkit descriptors \n",
    "avail_descriptors = [descriptor_name for descriptor_name, _ in  Descriptors.descList]\n",
    "\n",
    "# Generating molecule object from SMILEs\n",
    "molecule = Chem.MolFromSmiles(smiles)\n",
    "\n",
    "# Representing molecule as a vector of descriptor values\n",
    "mol_vec = [descriptor_func(molecule) for _, descriptor_func in Descriptors.descList]\n",
    "\n",
    "print(f\"available descriptor count: {len(avail_descriptors)}\")\n",
    "print(\"descriptors and it values from 11-th to 14-th \")\n",
    "print(\"#\"*45+\"\\n\")\n",
    "print(f\"...{avail_descriptors[10:14]}...\")\n",
    "print(f\"...{mol_vec[10:14]}...\")"
   ]
  },
  {
   "cell_type": "markdown",
   "metadata": {},
   "source": [
    "### Fingerprint vector representation"
   ]
  },
  {
   "cell_type": "code",
   "execution_count": 87,
   "metadata": {},
   "outputs": [
    {
     "name": "stdout",
     "output_type": "stream",
     "text": [
      "##################### RDKIT (70-95) #####################\n",
      "...[0 0 0 0 0 0 1 0 0 0 0 0 0 0 0 0 0 0 0 0 0 0 0 0 0]...\n",
      "#################### MACCS (70-95) ####################\n",
      "...[0 0 0 0 0 0 0 0 0 0 0 0 0 0 0 0 0 0 0 0 0 0 1 0 0]...\n"
     ]
    }
   ],
   "source": [
    "\n",
    "# Fingerprint generator instance\n",
    "RDKIT_FINGERPRINT_GENERATOR = rdFingerprintGenerator.GetRDKitFPGenerator(maxPath=5)\n",
    "\n",
    "# RDKIT Fingerptint as np.ndarray\n",
    "rdkit_fingerprint = np.array(RDKIT_FINGERPRINT_GENERATOR.GetFingerprint(molecule))\n",
    "\n",
    "# MACCS keys Fingerptint as np.ndarray\n",
    "maccs_fingerprint= np.array(MACCSkeys.GenMACCSKeys(molecule))\n",
    "\n",
    "print(\"#\"*21+\" RDKIT (70-95) \"+\"#\"*21)\n",
    "print(f\"...{rdkit_fingerprint[70:95]}...\")\n",
    "\n",
    "print(\"#\"*20+\" MACCS (70-95) \"+\"#\"*20)\n",
    "print(f\"...{maccs_fingerprint[70:95]}...\")\n"
   ]
  },
  {
   "cell_type": "markdown",
   "metadata": {},
   "source": [
    "## 2D and 3D Molecule repesentation as an image"
   ]
  },
  {
   "cell_type": "code",
   "execution_count": 98,
   "metadata": {},
   "outputs": [
    {
     "data": {
      "image/png": "[encoded data removed]",
      "text/plain": [
       "<PIL.PngImagePlugin.PngImageFile image mode=RGB size=400x200 at 0x7F8DE8AC5F40>"
      ]
     },
     "execution_count": 98,
     "metadata": {},
     "output_type": "execute_result"
    }
   ],
   "source": [
    "molecule_hs = AllChem.AddHs(molecule)\n",
    "AllChem.EmbedMolecule(molecule_hs)\n",
    "\n",
    "Draw.MolsToGridImage([molecule, molecule_hs], 2)"
   ]
  },
  {
   "cell_type": "markdown",
   "metadata": {},
   "source": [
    "## Graph molecule representation"
   ]
  },
  {
   "cell_type": "markdown",
   "metadata": {},
   "source": [
    "### As an adjacency matrix"
   ]
  },
  {
   "cell_type": "code",
   "execution_count": 99,
   "metadata": {},
   "outputs": [
    {
     "data": {
      "text/plain": [
       "array([[0, 1, 0, 0, 0, 0, 0, 0, 0, 0, 0],\n",
       "       [1, 0, 1, 1, 0, 0, 0, 0, 0, 0, 0],\n",
       "       [0, 1, 0, 0, 0, 0, 0, 0, 0, 0, 0],\n",
       "       [0, 1, 0, 0, 1, 0, 0, 0, 0, 0, 0],\n",
       "       [0, 0, 0, 1, 0, 1, 0, 0, 0, 1, 0],\n",
       "       [0, 0, 0, 0, 1, 0, 1, 0, 0, 0, 0],\n",
       "       [0, 0, 0, 0, 0, 1, 0, 1, 0, 0, 0],\n",
       "       [0, 0, 0, 0, 0, 0, 1, 0, 1, 0, 1],\n",
       "       [0, 0, 0, 0, 0, 0, 0, 1, 0, 1, 0],\n",
       "       [0, 0, 0, 0, 1, 0, 0, 0, 1, 0, 0],\n",
       "       [0, 0, 0, 0, 0, 0, 0, 1, 0, 0, 0]], dtype=int32)"
      ]
     },
     "execution_count": 99,
     "metadata": {},
     "output_type": "execute_result"
    }
   ],
   "source": [
    "Chem.GetAdjacencyMatrix(molecule)"
   ]
  },
  {
   "cell_type": "markdown",
   "metadata": {},
   "source": [
    "### As a torch_geometric.Data object"
   ]
  },
  {
   "cell_type": "code",
   "execution_count": 104,
   "metadata": {},
   "outputs": [
    {
     "data": {
      "text/plain": [
       "Data(x=[11, 6], edge_index=[2, 22], edge_attr=[22])"
      ]
     },
     "execution_count": 104,
     "metadata": {},
     "output_type": "execute_result"
    }
   ],
   "source": [
    "torch_molecule = mol_to_torch_data(molecule)\n",
    "torch_molecule"
   ]
  },
  {
   "cell_type": "markdown",
   "metadata": {},
   "source": [
    "### As networkx.Graph object"
   ]
  },
  {
   "cell_type": "code",
   "execution_count": 108,
   "metadata": {},
   "outputs": [
    {
     "name": "stdout",
     "output_type": "stream",
     "text": [
      "Graph with 11 nodes and 11 edges\n"
     ]
    },
    {
     "data": {
      "image/png": "[encoded data removed]",
      "text/plain": [
       "<Figure size 432x288 with 1 Axes>"
      ]
     },
     "metadata": {},
     "output_type": "display_data"
    }
   ],
   "source": [
    "nx_molecule = to_networkx(torch_molecule, to_undirected=True)\n",
    "print(nx_molecule)\n",
    "nx.draw(nx_molecule)"
   ]
  },
  {
   "cell_type": "markdown",
   "metadata": {},
   "source": [
    "### Connectivity table representation"
   ]
  },
  {
   "cell_type": "code",
   "execution_count": 111,
   "metadata": {},
   "outputs": [
    {
     "name": "stdout",
     "output_type": "stream",
     "text": [
      "\n",
      "     RDKit          2D\n",
      "\n",
      " 11 11  0  0  0  0  0  0  0  0999 V2000\n",
      "    5.2500   -1.2990    0.0000 C   0  0  0  0  0  0  0  0  0  0  0  0\n",
      "    3.7500   -1.2990    0.0000 C   0  0  0  0  0  0  0  0  0  0  0  0\n",
      "    3.0000   -2.5981    0.0000 O   0  0  0  0  0  0  0  0  0  0  0  0\n",
      "    3.0000    0.0000    0.0000 N   0  0  0  0  0  0  0  0  0  0  0  0\n",
      "    1.5000    0.0000    0.0000 C   0  0  0  0  0  0  0  0  0  0  0  0\n",
      "    0.7500   -1.2990    0.0000 C   0  0  0  0  0  0  0  0  0  0  0  0\n",
      "   -0.7500   -1.2990    0.0000 C   0  0  0  0  0  0  0  0  0  0  0  0\n",
      "   -1.5000    0.0000    0.0000 C   0  0  0  0  0  0  0  0  0  0  0  0\n",
      "   -0.7500    1.2990    0.0000 C   0  0  0  0  0  0  0  0  0  0  0  0\n",
      "    0.7500    1.2990    0.0000 C   0  0  0  0  0  0  0  0  0  0  0  0\n",
      "   -3.0000    0.0000    0.0000 O   0  0  0  0  0  0  0  0  0  0  0  0\n",
      "  1  2  1  0\n",
      "  2  3  2  0\n",
      "  2  4  1  0\n",
      "  4  5  1  0\n",
      "  5  6  2  0\n",
      "  6  7  1  0\n",
      "  7  8  2  0\n",
      "  8  9  1  0\n",
      "  9 10  2  0\n",
      "  8 11  1  0\n",
      " 10  5  1  0\n",
      "M  END\n",
      "\n"
     ]
    }
   ],
   "source": [
    "print(Chem.MolToMolBlock(molecule))"
   ]
  }
 ],
 "metadata": {
  "interpreter": {
   "hash": "10bb543452b0f064e04097eeef112f065bfd346d07a52f5c26bfdc16270968ca"
  },
  "kernelspec": {
   "display_name": "Python 3.9.9 64-bit ('cadd': conda)",
   "language": "python",
   "name": "python3"
  },
  "language_info": {
   "codemirror_mode": {
    "name": "ipython",
    "version": 3
   },
   "file_extension": ".py",
   "mimetype": "text/x-python",
   "name": "python",
   "nbconvert_exporter": "python",
   "pygments_lexer": "ipython3",
   "version": "3.9.7"
  },
  "orig_nbformat": 4
 },
 "nbformat": 4,
 "nbformat_minor": 2
}
