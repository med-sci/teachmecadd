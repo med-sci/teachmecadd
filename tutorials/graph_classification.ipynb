{
 "cells": [
  {
   "cell_type": "code",
   "execution_count": 1,
   "metadata": {},
   "outputs": [],
   "source": [
    "import sys\n",
    "import pandas as pd\n",
    "from rdkit import Chem\n",
    "import warnings\n",
    "sys.path.append(\"../\")\n",
    "from tcad.graph_tools import mol_to_torch_data, add_label, train_test_split\n",
    "import networkx as nx\n",
    "from torch_geometric.utils import to_networkx\n",
    "from torch_geometric.loader import DataLoader\n",
    "warnings.filterwarnings(\"ignore\")"
   ]
  },
  {
   "cell_type": "code",
   "execution_count": 2,
   "metadata": {},
   "outputs": [
    {
     "data": {
      "text/html": [
       "<div>\n",
       "<style scoped>\n",
       "    .dataframe tbody tr th:only-of-type {\n",
       "        vertical-align: middle;\n",
       "    }\n",
       "\n",
       "    .dataframe tbody tr th {\n",
       "        vertical-align: top;\n",
       "    }\n",
       "\n",
       "    .dataframe thead th {\n",
       "        text-align: right;\n",
       "    }\n",
       "</style>\n",
       "<table border=\"1\" class=\"dataframe\">\n",
       "  <thead>\n",
       "    <tr style=\"text-align: right;\">\n",
       "      <th></th>\n",
       "      <th>assay_type</th>\n",
       "      <th>canonical_smiles</th>\n",
       "      <th>molecule_chembl_id</th>\n",
       "      <th>standard_units</th>\n",
       "      <th>standard_value</th>\n",
       "      <th>target_organism</th>\n",
       "      <th>type</th>\n",
       "    </tr>\n",
       "  </thead>\n",
       "  <tbody>\n",
       "    <tr>\n",
       "      <th>0</th>\n",
       "      <td>B</td>\n",
       "      <td>CC(C)(C)c1nc2c3ccc(F)cc3c3c(=O)[nH]ccc3c2[nH]1</td>\n",
       "      <td>CHEMBL21156</td>\n",
       "      <td>nM</td>\n",
       "      <td>690.0</td>\n",
       "      <td>Homo sapiens</td>\n",
       "      <td>IC50</td>\n",
       "    </tr>\n",
       "    <tr>\n",
       "      <th>1</th>\n",
       "      <td>B</td>\n",
       "      <td>CC(O)C(/N=C1/C=C(O)/C(=N\\C(C(=O)O)C(C)O)C=C1O)...</td>\n",
       "      <td>CHEMBL327725</td>\n",
       "      <td>nM</td>\n",
       "      <td>3000.0</td>\n",
       "      <td>Homo sapiens</td>\n",
       "      <td>IC50</td>\n",
       "    </tr>\n",
       "    <tr>\n",
       "      <th>2</th>\n",
       "      <td>B</td>\n",
       "      <td>O=C(Cc1ccc2ccccc2c1)Nc1cc(C2CC2)n[nH]1</td>\n",
       "      <td>CHEMBL115220</td>\n",
       "      <td>nM</td>\n",
       "      <td>10000.0</td>\n",
       "      <td>Homo sapiens</td>\n",
       "      <td>IC50</td>\n",
       "    </tr>\n",
       "    <tr>\n",
       "      <th>3</th>\n",
       "      <td>B</td>\n",
       "      <td>CC(C)OCc1ccc2c(c1)c1c3c(c4c(c1n2CCCO)Cc1ccccc1...</td>\n",
       "      <td>CHEMBL150894</td>\n",
       "      <td>nM</td>\n",
       "      <td>4.0</td>\n",
       "      <td>Homo sapiens</td>\n",
       "      <td>IC50</td>\n",
       "    </tr>\n",
       "    <tr>\n",
       "      <th>4</th>\n",
       "      <td>B</td>\n",
       "      <td>O=C(Nc1cccc(C(F)(F)F)c1)c1ccccc1NCc1ccncc1</td>\n",
       "      <td>CHEMBL153843</td>\n",
       "      <td>nM</td>\n",
       "      <td>18.0</td>\n",
       "      <td>Homo sapiens</td>\n",
       "      <td>IC50</td>\n",
       "    </tr>\n",
       "  </tbody>\n",
       "</table>\n",
       "</div>"
      ],
      "text/plain": [
       "  assay_type                                   canonical_smiles  \\\n",
       "0          B     CC(C)(C)c1nc2c3ccc(F)cc3c3c(=O)[nH]ccc3c2[nH]1   \n",
       "1          B  CC(O)C(/N=C1/C=C(O)/C(=N\\C(C(=O)O)C(C)O)C=C1O)...   \n",
       "2          B             O=C(Cc1ccc2ccccc2c1)Nc1cc(C2CC2)n[nH]1   \n",
       "3          B  CC(C)OCc1ccc2c(c1)c1c3c(c4c(c1n2CCCO)Cc1ccccc1...   \n",
       "4          B         O=C(Nc1cccc(C(F)(F)F)c1)c1ccccc1NCc1ccncc1   \n",
       "\n",
       "  molecule_chembl_id standard_units  standard_value target_organism  type  \n",
       "0        CHEMBL21156             nM           690.0    Homo sapiens  IC50  \n",
       "1       CHEMBL327725             nM          3000.0    Homo sapiens  IC50  \n",
       "2       CHEMBL115220             nM         10000.0    Homo sapiens  IC50  \n",
       "3       CHEMBL150894             nM             4.0    Homo sapiens  IC50  \n",
       "4       CHEMBL153843             nM            18.0    Homo sapiens  IC50  "
      ]
     },
     "execution_count": 2,
     "metadata": {},
     "output_type": "execute_result"
    }
   ],
   "source": [
    "data = pd.read_csv(\"../data/data.csv\")\n",
    "data.head()"
   ]
  },
  {
   "cell_type": "code",
   "execution_count": 3,
   "metadata": {},
   "outputs": [
    {
     "data": {
      "image/png": "[encoded data removed]",
      "text/plain": [
       "<rdkit.Chem.rdchem.Mol at 0x7fc8babe6ca0>"
      ]
     },
     "execution_count": 3,
     "metadata": {},
     "output_type": "execute_result"
    }
   ],
   "source": [
    "smiles = list(data['canonical_smiles'])\n",
    "molecules = [Chem.MolFromSmiles(smile) for smile in smiles]\n",
    "labels = list(data['standard_value'])\n",
    "molecules[0]"
   ]
  },
  {
   "cell_type": "code",
   "execution_count": 7,
   "metadata": {},
   "outputs": [
    {
     "data": {
      "text/plain": [
       "Data(x=[23, 6], edge_index=[2, 52], edge_attr=[52], y=690.0)"
      ]
     },
     "execution_count": 7,
     "metadata": {},
     "output_type": "execute_result"
    }
   ],
   "source": [
    "dataset = [mol_to_torch_data(mol) for mol in molecules]\n",
    "dataset = [add_label(graph, label) for graph, label in zip(dataset, labels)]\n",
    "dataset[0]"
   ]
  },
  {
   "cell_type": "code",
   "execution_count": 8,
   "metadata": {},
   "outputs": [
    {
     "data": {
      "image/png": "[encoded data removed]",
      "text/plain": [
       "<Figure size 432x288 with 1 Axes>"
      ]
     },
     "metadata": {},
     "output_type": "display_data"
    }
   ],
   "source": [
    "g = to_networkx(dataset[0], to_undirected=True)\n",
    "nx.draw(g)"
   ]
  },
  {
   "cell_type": "code",
   "execution_count": 9,
   "metadata": {},
   "outputs": [],
   "source": [
    "batch_size = 64\n",
    "train_dataset, test_dataset = train_test_split(dataset, 0.3) \n",
    "train_data_loader = DataLoader(train_dataset, batch_size, shuffle=True)\n",
    "test_data_loader = DataLoader(test_dataset, batch_size, shuffle=False)"
   ]
  }
 ],
 "metadata": {
  "interpreter": {
   "hash": "10bb543452b0f064e04097eeef112f065bfd346d07a52f5c26bfdc16270968ca"
  },
  "kernelspec": {
   "display_name": "Python 3.9.9 64-bit ('cadd': conda)",
   "language": "python",
   "name": "python3"
  },
  "language_info": {
   "codemirror_mode": {
    "name": "ipython",
    "version": 3
   },
   "file_extension": ".py",
   "mimetype": "text/x-python",
   "name": "python",
   "nbconvert_exporter": "python",
   "pygments_lexer": "ipython3",
   "version": "3.9.7"
  },
  "orig_nbformat": 4
 },
 "nbformat": 4,
 "nbformat_minor": 2
}
