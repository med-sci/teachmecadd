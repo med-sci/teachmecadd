{
 "cells": [
  {
   "cell_type": "code",
   "execution_count": 1,
   "metadata": {},
   "outputs": [],
   "source": [
    "import pandas as pd\n",
    "import sys\n",
    "import torch\n",
    "import matplotlib.pyplot as plt\n",
    "from torch.utils.data import DataLoader , random_split\n",
    "sys.path.append(\"../\")\n",
    "from tqdm import tqdm\n",
    "from tcad.deep.fit import train_CNN, evaluate_CNN\n",
    "from tcad.deep.models import CNN\n",
    "from tcad.tools.nntools import SmilesDataSet\n",
    "from tcad.tools.datatools import to_log_p"
   ]
  },
  {
   "cell_type": "code",
   "execution_count": 2,
   "metadata": {},
   "outputs": [
    {
     "data": {
      "image/png": "[encoded data removed]",
      "text/plain": [
       "<Figure size 432x288 with 1 Axes>"
      ]
     },
     "metadata": {
      "needs_background": "light"
     },
     "output_type": "display_data"
    }
   ],
   "source": [
    "data = pd.read_csv(\"../data/androgen_data.csv\")\n",
    "smiles = data[\"canonical_smiles\"].to_list()\n",
    "\n",
    "ACTIVITY_LVL = 5.5\n",
    "labels = to_log_p(list(data['standard_value']))\n",
    "labels = [1 if value < ACTIVITY_LVL else 0 for value in labels]\n",
    "\n",
    "plt.hist(labels,2, edgecolor='black')\n",
    "plt.show()"
   ]
  },
  {
   "cell_type": "code",
   "execution_count": 3,
   "metadata": {},
   "outputs": [],
   "source": [
    "split_ratio = 0.3\n",
    "dataset = SmilesDataSet(smiles, labels)\n",
    "train_data, test_data  = random_split(dataset, [round(len(dataset) * (1 - split_ratio)), round(len(dataset) * split_ratio)])\n",
    "train_dataloader = DataLoader(train_data, batch_size=64,)\n",
    "test_dataloader = DataLoader(test_data, batch_size=64)"
   ]
  },
  {
   "cell_type": "code",
   "execution_count": 4,
   "metadata": {},
   "outputs": [
    {
     "name": "stdout",
     "output_type": "stream",
     "text": [
      "label: tensor([0.]) \n",
      "shape: 1x165x34\n"
     ]
    },
    {
     "data": {
      "image/png": "[encoded data removed]",
      "text/plain": [
       "<Figure size 432x288 with 1 Axes>"
      ]
     },
     "metadata": {
      "needs_background": "light"
     },
     "output_type": "display_data"
    }
   ],
   "source": [
    "example = 2\n",
    "encoded_smiles, label= next(iter(train_dataloader))\n",
    "print(f\"label: {label[example]} \\nshape: {encoded_smiles.shape[1]}x{encoded_smiles.shape[2]}x{encoded_smiles.shape[3]}\")\n",
    "plt.imshow(encoded_smiles[example].squeeze())\n",
    "plt.show()"
   ]
  },
  {
   "cell_type": "code",
   "execution_count": 5,
   "metadata": {},
   "outputs": [
    {
     "name": "stderr",
     "output_type": "stream",
     "text": [
      "100%|██████████| 1/1 [05:06<00:00, 306.27s/it]\n"
     ]
    }
   ],
   "source": [
    "model = CNN()\n",
    "losses = []\n",
    "\n",
    "for _ in tqdm(range(1)):\n",
    "    loss = train_CNN(model, train_dataloader)\n",
    "    losses.append(loss)\n"
   ]
  },
  {
   "cell_type": "code",
   "execution_count": 8,
   "metadata": {},
   "outputs": [
    {
     "data": {
      "image/png": "[encoded data removed]",
      "text/plain": [
       "<Figure size 432x288 with 1 Axes>"
      ]
     },
     "metadata": {
      "needs_background": "light"
     },
     "output_type": "display_data"
    }
   ],
   "source": [
    "plt.plot(losses)\n",
    "plt.show()"
   ]
  },
  {
   "cell_type": "code",
   "execution_count": 9,
   "metadata": {},
   "outputs": [
    {
     "data": {
      "text/plain": [
       "66.886"
      ]
     },
     "execution_count": 9,
     "metadata": {},
     "output_type": "execute_result"
    }
   ],
   "source": [
    "evaluate_CNN(model, test_dataloader)"
   ]
  }
 ],
 "metadata": {
  "interpreter": {
   "hash": "10bb543452b0f064e04097eeef112f065bfd346d07a52f5c26bfdc16270968ca"
  },
  "kernelspec": {
   "display_name": "Python 3.9.7 64-bit ('cadd': conda)",
   "language": "python",
   "name": "python3"
  },
  "language_info": {
   "codemirror_mode": {
    "name": "ipython",
    "version": 3
   },
   "file_extension": ".py",
   "mimetype": "text/x-python",
   "name": "python",
   "nbconvert_exporter": "python",
   "pygments_lexer": "ipython3",
   "version": "3.9.7"
  },
  "orig_nbformat": 4
 },
 "nbformat": 4,
 "nbformat_minor": 2
}
